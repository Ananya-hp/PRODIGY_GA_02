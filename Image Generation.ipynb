!pip install diffusers transformers accelerate scipy safetensors

import torch
from diffusers import StableDiffusionPipeline
import matplotlib.pyplot as plt

from diffusers import StableDiffusionPipeline
import torch
import matplotlib.pyplot as plt


pipe = StableDiffusionPipeline.from_pretrained(
    "runwayml/stable-diffusion-v1-5"

).to("cpu") 


prompt = "A serene mountain landscape in watercolor style"
image = pipe(prompt).images[0]


plt.imshow(image)
plt.axis("off")
plt.title("Prompt: " + prompt)
plt.show()
