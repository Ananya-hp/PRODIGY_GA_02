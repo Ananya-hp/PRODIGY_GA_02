!pip install diffusers transformers accelerate scipy safetensors
import torch
from diffusers import StableDiffusionPipeline
import matplotlib.pyplot as plt
from diffusers import StableDiffusionPipeline
import torch
import matplotlib.pyplot as plt

# Load the model (no login needed for public models)
pipe = StableDiffusionPipeline.from_pretrained(
    "runwayml/stable-diffusion-v1-5"
    # Removed torch_dtype=torch.float16 as it's typically for GPU
).to("cpu") # Changed device to "cpu"


prompt = "A serene mountain landscape in watercolor style"
image = pipe(prompt).images[0]

# Show the image
plt.imshow(image)
plt.axis("off")
plt.title("Prompt: " + prompt)
plt.show()
